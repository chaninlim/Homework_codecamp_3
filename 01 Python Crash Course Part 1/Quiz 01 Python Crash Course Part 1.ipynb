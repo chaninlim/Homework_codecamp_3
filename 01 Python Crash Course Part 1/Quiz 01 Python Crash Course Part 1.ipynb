{
 "cells": [
  {
   "cell_type": "code",
   "execution_count": 1,
   "metadata": {},
   "outputs": [
    {
     "data": {
      "text/plain": [
       "5"
      ]
     },
     "execution_count": 1,
     "metadata": {},
     "output_type": "execute_result"
    }
   ],
   "source": [
    "#1\n",
    "#ขียนคำสั่งคำนวณหาเศษเหลือจากการหาร 2345 ด้วย 13 \n",
    "a=2345%13\n",
    "#print (a)\n",
    "a"
   ]
  },
  {
   "cell_type": "code",
   "execution_count": 2,
   "metadata": {},
   "outputs": [
    {
     "name": "stdout",
     "output_type": "stream",
     "text": [
      "92\n"
     ]
    }
   ],
   "source": [
    "#เขียนคำสั่งหาคำตอบจากการหาร 1567 ด้วย 17 โดยไม่เอาเศษส่วน\n",
    "b=1567//17\n",
    "print (b)"
   ]
  },
  {
   "cell_type": "code",
   "execution_count": 3,
   "metadata": {},
   "outputs": [],
   "source": [
    "#FirstName กับ Firstname เป็นตัวแปรเดียวกันหรือไม่? \n",
    "\n",
    "# คนละตัวแปร\n"
   ]
  },
  {
   "cell_type": "code",
   "execution_count": null,
   "metadata": {},
   "outputs": [],
   "source": [
    "#13Friday เป็นตัวแปรที่ถูกต้องหรือไม่?  \n",
    "\n",
    "#ไม่ถูกต้องขึ้นต้นด้วยตัวอักษร\n"
   ]
  },
  {
   "cell_type": "code",
   "execution_count": 33,
   "metadata": {},
   "outputs": [
    {
     "name": "stdout",
     "output_type": "stream",
     "text": [
      "Result qz1 is 5 and Result qz2 is 92\n"
     ]
    }
   ],
   "source": [
    "#จง Print ผลลัพธ์จากข้อ 1,2 โดยใช้คำสั่ง format\n",
    "print('Result qz1 is {} and Result qz2 is {}'.format(a,b))"
   ]
  },
  {
   "cell_type": "code",
   "execution_count": 39,
   "metadata": {},
   "outputs": [
    {
     "name": "stdout",
     "output_type": "stream",
     "text": [
      "1.6666666666666667\n"
     ]
    }
   ],
   "source": [
    "#2\n",
    "#เขียนฟังก์ชั่นไม่มีชื่อให้รับพารามิเตอร์ 1 ตัว และ ปริ้นค่านั้นหารด้วย 3 \n",
    "Qz1 = lambda y:y/3\n",
    "print (Qz1(5))"
   ]
  },
  {
   "cell_type": "code",
   "execution_count": 41,
   "metadata": {},
   "outputs": [
    {
     "name": "stdout",
     "output_type": "stream",
     "text": [
      "2.5\n"
     ]
    }
   ],
   "source": [
    "#เขียนฟังก์ชั่นธรรมดารับค่า 4 พารามิเตอร์ และหาค่าเฉลี่ย\n",
    "def qz2(a,b,c,d):\n",
    "    qz22 = (a+b+c+d)/4\n",
    "    return qz22\n",
    "qz222=qz2(1,2,3,4)\n",
    "print(qz222)"
   ]
  },
  {
   "cell_type": "code",
   "execution_count": 42,
   "metadata": {},
   "outputs": [
    {
     "name": "stdout",
     "output_type": "stream",
     "text": [
      "2.0\n"
     ]
    }
   ],
   "source": [
    "#เขียนฟังก์ชั่นไม่มีชื่อให้รับพารามิเตอร์ 3 ตัว และหาค่าเฉลี่ย\n",
    "qz3=lambda e,f,g:((e+f+g)/3)\n",
    "print (qz3(1,2,3))"
   ]
  },
  {
   "cell_type": "code",
   "execution_count": 43,
   "metadata": {},
   "outputs": [
    {
     "name": "stdout",
     "output_type": "stream",
     "text": [
      "['Chanin', 'Limpaiboon', 45]\n"
     ]
    }
   ],
   "source": [
    "#3\n",
    "#สร้างลิสต์ระบุชื่อ นามสกุล อายุ ตัวเอง\n",
    "QZ1 =['Chanin','Limpaiboon',45]\n",
    "print (QZ1)"
   ]
  },
  {
   "cell_type": "code",
   "execution_count": 44,
   "metadata": {},
   "outputs": [
    {
     "name": "stdout",
     "output_type": "stream",
     "text": [
      "['Chanin', 'Limpaiboon']\n"
     ]
    }
   ],
   "source": [
    "#ลบอายุออกจากลิสต์ \n",
    "del QZ1[2]\n",
    "print (QZ1)"
   ]
  },
  {
   "cell_type": "code",
   "execution_count": 14,
   "metadata": {},
   "outputs": [
    {
     "name": "stdout",
     "output_type": "stream",
     "text": [
      "[35, 'Chanin', 'Limpaiboon']\n"
     ]
    }
   ],
   "source": [
    "#ลดอายุตัวเอง 10 ปี และแทรกไว้หน้าสุดของลิสต์\n",
    "QZ1.insert (0,35)\n",
    "print (QZ1)"
   ]
  },
  {
   "cell_type": "code",
   "execution_count": 45,
   "metadata": {},
   "outputs": [
    {
     "name": "stdout",
     "output_type": "stream",
     "text": [
      "['Chanin', 'Limpaiboon', 168, 60]\n"
     ]
    }
   ],
   "source": [
    "#เพิ่มส่วนสูง น้ำหนักลงในลิสต์ โดยไปต่อท้าย\n",
    "QZ1.append (168)\n",
    "QZ1.append (60)\n",
    "print (QZ1)"
   ]
  },
  {
   "cell_type": "code",
   "execution_count": 46,
   "metadata": {},
   "outputs": [
    {
     "name": "stdout",
     "output_type": "stream",
     "text": [
      "[168, 60]\n"
     ]
    }
   ],
   "source": [
    "#Print สมาชิกในลิสต์ตัวที่ 3 ถึงตัวสุดท้าย\n",
    "print (QZ1[2:])"
   ]
  },
  {
   "cell_type": "code",
   "execution_count": 18,
   "metadata": {},
   "outputs": [
    {
     "data": {
      "text/plain": [
       "6"
      ]
     },
     "execution_count": 18,
     "metadata": {},
     "output_type": "execute_result"
    }
   ],
   "source": [
    "#4 Nested List\n",
    "#a = [[[1,3],[3,4]],[5,[5,6],[7,8]]] แล้ว a[1][1][1] คือค่าใด\n",
    "a = [[[1,3],[3,4]],[5,[5,6],[7,8]]] \n",
    "a[1][1][1]"
   ]
  },
  {
   "cell_type": "code",
   "execution_count": 81,
   "metadata": {},
   "outputs": [
    {
     "name": "stdout",
     "output_type": "stream",
     "text": [
      "[['นายa1', 'สกุลa2', 1], ['นายb1', 'สกุลb2', 2], ['นายc1', 'สกุลc2', 3], ['นายd1', 'สกุลd2', 4]]\n"
     ]
    }
   ],
   "source": [
    "#เขียนชื่อนามสกุลอายุอยู่ในลิสต์เดียวของคน 4 คนแล้วใส่ไว้ในลิสต์ (Nested List) และแสดงผล\n",
    "Q2=[['นายa1','สกุลa2',1],['นายb1','สกุลb2',2],['นายc1','สกุลc2',3],['นายd1','สกุลd2',4]]\n",
    "print(Q2)\n"
   ]
  },
  {
   "cell_type": "code",
   "execution_count": 82,
   "metadata": {},
   "outputs": [
    {
     "name": "stdout",
     "output_type": "stream",
     "text": [
      "[['นายa1', 'สกุลa2', 1], ['นายb1', 'สกุลb2', 2], ['นายc1', 'สกุลc2', 3]]\n"
     ]
    }
   ],
   "source": [
    "#ลบคนสุดท้ายของลิสต์นั้นออกและแสดงผล\n",
    "#Q2[3]\n",
    "del Q2[3]\n",
    "print(Q2)"
   ]
  },
  {
   "cell_type": "code",
   "execution_count": 83,
   "metadata": {},
   "outputs": [
    {
     "name": "stdout",
     "output_type": "stream",
     "text": [
      "[['นายe1', 'สกุลe2', 5], ['นายa1', 'สกุลa2', 1], ['นายb1', 'สกุลb2', 2], ['นายc1', 'สกุลc2', 3]]\n"
     ]
    }
   ],
   "source": [
    "#เพิ่มคนที่ 5 เข้ามาเป็นคนแรกของ Nested List และแสดงผล\n",
    "Q2.insert(0,['นายe1','สกุลe2',5])\n",
    "print (Q2)"
   ]
  },
  {
   "cell_type": "code",
   "execution_count": 84,
   "metadata": {},
   "outputs": [
    {
     "data": {
      "text/plain": [
       "[['นายe1', 'สกุลe2', 5],\n",
       " ['นายa1', 'สกุลa2', 11],\n",
       " ['นายb1', 'สกุลb2', 2],\n",
       " ['นายc1', 'สกุลc2', 3]]"
      ]
     },
     "execution_count": 84,
     "metadata": {},
     "output_type": "execute_result"
    }
   ],
   "source": [
    "#แก้ไขน้ำหนักคนที่สอง +10 และแสดงผล\n",
    "Q2[1][2]\n",
    "new_weight=(Q2[1][2])+10\n",
    "new_weight\n",
    "Q2[1][2]=new_weight\n",
    "Q2"
   ]
  },
  {
   "cell_type": "code",
   "execution_count": 85,
   "metadata": {},
   "outputs": [
    {
     "name": "stdout",
     "output_type": "stream",
     "text": [
      "[1, 8, 27, 64, 125, 216, 343, 512, 729, 1000]\n"
     ]
    }
   ],
   "source": [
    "#5 Map and filter\n",
    "#กำหนดให้ lst = [1,2,3,4,5,6,7,8,9,10] จงเขียน Map เพื่อหาเลขยกกำลังสามทั้งหมดของ lst ในรูปแบบ Lambda Function และ ฟังก์ชั่นธรรมดา\n",
    "lst=[1,2,3,4,5,6,7,8,9,10]\n",
    "print(list(map(lambda x:x**3,lst)))"
   ]
  },
  {
   "cell_type": "code",
   "execution_count": 86,
   "metadata": {},
   "outputs": [
    {
     "name": "stdout",
     "output_type": "stream",
     "text": [
      "[1, 8, 27, 64, 125, 216, 343, 512, 729, 1000]\n"
     ]
    }
   ],
   "source": [
    "def func(x):\n",
    "    return x**3\n",
    "    \n",
    "print(list(map(func,lst)))"
   ]
  },
  {
   "cell_type": "code",
   "execution_count": 87,
   "metadata": {},
   "outputs": [
    {
     "name": "stdout",
     "output_type": "stream",
     "text": [
      "[1, 3, 5, 7, 9]\n"
     ]
    }
   ],
   "source": [
    "#กำหนดให้ lst = [1,2,3,4,5,6,7,8,9,10] จงเขียน Filter เพื่อหาเลขใดในลิสต์เมื่อยกกำลังสองแล้วหารสองไม่ลงตัว ในรูปแบบ Lambda Function และ ฟังก์ชั่นธรรมดา\n",
    "lst =[1,2,3,4,5,6,7,8,9,10]\n",
    "print (list(filter(lambda x:(x**2)%2 !=0, lst)))"
   ]
  },
  {
   "cell_type": "code",
   "execution_count": 88,
   "metadata": {},
   "outputs": [
    {
     "name": "stdout",
     "output_type": "stream",
     "text": [
      "[1, 3, 5, 7, 9]\n"
     ]
    }
   ],
   "source": [
    "def func(x):\n",
    "    return (x**2)%2 !=0\n",
    "\n",
    "print(list(filter(func,lst)))"
   ]
  },
  {
   "cell_type": "code",
   "execution_count": 91,
   "metadata": {},
   "outputs": [
    {
     "name": "stdout",
     "output_type": "stream",
     "text": [
      "[1, 3, 5, 7, 9]\n"
     ]
    }
   ],
   "source": [
    "#6 List Compehension\n",
    "\n",
    "#กำหนดให้ lst = [1,2,3,4,5] จงเขียน List Comprehension เพื่อนำทุกตัวใน lst ไปคูณกับ 2 และลบด้วย 1 พร้อมกับแสดงผล\n",
    "lst = [1,2,3,4,5]\n",
    "lst2 = [(i*2)-1 for i in lst]\n",
    "print(lst2)"
   ]
  },
  {
   "cell_type": "code",
   "execution_count": 98,
   "metadata": {},
   "outputs": [
    {
     "name": "stdout",
     "output_type": "stream",
     "text": [
      "[1, 2, 4, 5, 7, 8, 10, 11, 13]\n",
      "[1, 8, 64, 125, 343, 512, 1000, 1331, 2197]\n"
     ]
    }
   ],
   "source": [
    "#กำหนดให้ lst = [1,2,3,4,5,6,7,8,9,10,11,12,13] จงเขียน List Comprehension \n",
    "#เพื่อหาตัวที่หาร 3 ไม่ลงตัว และนำผลลัพธ์นั้นยกกำลังสาม พร้อมกับแสดงผล\n",
    "lst=[1,2,3,4,5,6,7,8,9,10,11,12,13]\n",
    "lst2= [x for x in lst if x%3 > 0]\n",
    "lst3= [x**3 for x in lst2]\n",
    "print(lst2)\n",
    "print(lst3)"
   ]
  },
  {
   "cell_type": "code",
   "execution_count": 105,
   "metadata": {},
   "outputs": [
    {
     "name": "stdout",
     "output_type": "stream",
     "text": [
      "B\n"
     ]
    }
   ],
   "source": [
    "#7\n",
    "#จงเขียนโปรแกรมตรวจสอบคะแนนเด็กนักเรียน ถ้าเด็กได้คะแนนมากกว่า 80 เกรด A มากกว่า 70 เกรด B มากกว่า 60 เกรด C มากกว่า 50 เกรด D และต่ำกว่า 50 เกรด F\n",
    "\n",
    "i=80\n",
    "if (i>80):\n",
    "    print('A')\n",
    "elif (i>70):\n",
    "    print('B')\n",
    "elif (i>60):\n",
    "    print('C')\n",
    "elif (i>50):\n",
    "    print('D')\n",
    "else:\n",
    "    print('F')"
   ]
  },
  {
   "cell_type": "code",
   "execution_count": 108,
   "metadata": {},
   "outputs": [
    {
     "name": "stdout",
     "output_type": "stream",
     "text": [
      "[2, 9, 1, 81, 32]\n"
     ]
    }
   ],
   "source": [
    "#8\n",
    "#กำหนดให้ A = [1, 2, 3, 4, 5] และ B = [2, 3, 1, 3, 2] จงเขียน Map แบบ Multiple-list operations \n",
    "#โดยให้ B ยกกำลังด้วย A พร้อมกับแสดงผล\n",
    "A = [1, 2, 3, 4, 5]\n",
    "B = [2, 3, 1, 3, 2]\n",
    "result=list(map(lambda A,B : B**A,A,B))\n",
    "print(result)\n"
   ]
  },
  {
   "cell_type": "code",
   "execution_count": 113,
   "metadata": {},
   "outputs": [
    {
     "name": "stdout",
     "output_type": "stream",
     "text": [
      "[('A', 1, 60), ('B', 2, 70), ('C', 3, 80)]\n"
     ]
    }
   ],
   "source": [
    "#จงเขียนชื่อนักเรียน เลขที่ และคะแนนสอบไฟนอล พร้อมกับใช้คำสั่ง Zip() ในการจับคู่พร้อมกับแสดงผลลัพธ์ที่ถูกต้อง\n",
    "name=['A','B','C']\n",
    "sid=[1,2,3]\n",
    "score=[60,70,80]\n",
    "\n",
    "result2=list(zip(name,sid,score))\n",
    "print(result2)"
   ]
  },
  {
   "cell_type": "code",
   "execution_count": 117,
   "metadata": {},
   "outputs": [
    {
     "name": "stdout",
     "output_type": "stream",
     "text": [
      "244140625\n"
     ]
    }
   ],
   "source": [
    "#9\n",
    "#กำหนดให้ lst = [5, 2, 1, 3, 2] จงเขียนฟังก์ชั่น Reduce เพื่อหาผลลัพท์สุดท้ายของดำเนินการแบบเลขยกกำลัง \n",
    "from functools import reduce\n",
    "lst = [5, 2, 1, 3, 2]\n",
    "result1=reduce((lambda x,y:x**y),lst)\n",
    "print(result1)"
   ]
  },
  {
   "cell_type": "code",
   "execution_count": 118,
   "metadata": {},
   "outputs": [
    {
     "name": "stdout",
     "output_type": "stream",
     "text": [
      "3628800\n"
     ]
    }
   ],
   "source": [
    "#กำหนดให้ lst = [1,2,3,4,5,6,7,8,9,10] จงเขียนฟังก์ชั่น Reduce เพื่อหาผลลัพท์สุดท้ายของดำเนินการแบบการคูณ\n",
    "lst = [1,2,3,4,5,6,7,8,9,10]\n",
    "result2=reduce(lambda x,y: x*y,lst)\n",
    "print(result2)"
   ]
  }
 ],
 "metadata": {
  "kernelspec": {
   "display_name": "Python 3",
   "language": "python",
   "name": "python3"
  },
  "language_info": {
   "codemirror_mode": {
    "name": "ipython",
    "version": 3
   },
   "file_extension": ".py",
   "mimetype": "text/x-python",
   "name": "python",
   "nbconvert_exporter": "python",
   "pygments_lexer": "ipython3",
   "version": "3.8.3"
  }
 },
 "nbformat": 4,
 "nbformat_minor": 4
}
