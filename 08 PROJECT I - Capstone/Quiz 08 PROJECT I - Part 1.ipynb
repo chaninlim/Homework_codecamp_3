{
 "cells": [
  {
   "cell_type": "code",
   "execution_count": 1,
   "metadata": {},
   "outputs": [],
   "source": [
    "import plotly.express as px\n",
    "import numpy as np\n",
    "import pandas as pd"
   ]
  },
  {
   "cell_type": "code",
   "execution_count": 2,
   "metadata": {},
   "outputs": [
    {
     "name": "stdout",
     "output_type": "stream",
     "text": [
      "input number here=1\n",
      "input number here=0\n",
      "input number here=0.0\n",
      "count num= 3\n",
      "sum= 1.0\n",
      "avg= 0.3333333333333333\n",
      "avg x count = 1.0\n"
     ]
    },
    {
     "data": {
      "text/plain": [
       "[1.0, 0.0, 0.0]"
      ]
     },
     "execution_count": 2,
     "metadata": {},
     "output_type": "execute_result"
    }
   ],
   "source": [
    "### พอดี ไม่ได้ ดูใน video เลย เข้าใจว่า ต้องใส่ 0.0 เ่ท่านั้น เลยลองหาวิธีเช็คเงื่อนไข ได้ประมาณนี้ครับ\n",
    "\n",
    "#1.done จงเขียนโปรแกรมรับค่า Input จากผู้ใช้ ถ้าผู้ใช้ใส่ 0.0 จึงจะสิ้นสุดโปรแกรม คำนวณหาค่าเฉลี่ยของเลขทั้งหมดที่ผู้ใช้ใส่     และปริ้นค่าเฉลี่ยคูณด้วยจำนวนครั้งที่ใส่ทั้งหมด \n",
    "\n",
    "\n",
    "import numpy as np\n",
    "lstnum = np.arange(0,10)\n",
    "m=[]\n",
    "suminput=0\n",
    "\n",
    "i=input('input number here=')\n",
    "c=0\n",
    "for j in i: # check each letter from input\n",
    "    \n",
    "    for k in lstnum: # check with 0 -9\n",
    "        if j ==str(k):\n",
    "            c=c+1\n",
    "    if j=='.':\n",
    "        c=c+1\n",
    "#print('c',c)\n",
    "if c!=len(i):\n",
    "    print('Not number')\n",
    "else:\n",
    "    m.append(float(i))\n",
    "    suminput=suminput+float(i)\n",
    "while i !='0.0':\n",
    "    i=input('input number here=')\n",
    "    c=0\n",
    "    for j in i: # check each letter from input\n",
    "        for k in lstnum: # check with 0 -9\n",
    "            if j ==str(k):\n",
    "                c=c+1\n",
    "        if j=='.':\n",
    "            c=c+1\n",
    "    #print('c',c)\n",
    "    if c!=len(i):\n",
    "        print('Not number')\n",
    "    else:\n",
    "        m.append(float(i))\n",
    "        suminput=suminput+float(i)\n",
    "print('count num=',len(m))\n",
    "print('sum=',suminput)\n",
    "avg=suminput/len(m)\n",
    "print('avg=',avg)\n",
    "\n",
    "print('avg x count =',avg*len(m))\n",
    "m\n"
   ]
  },
  {
   "cell_type": "code",
   "execution_count": 71,
   "metadata": {},
   "outputs": [
    {
     "name": "stdout",
     "output_type": "stream",
     "text": [
      "Start=4\n",
      "End=25\n",
      "Total prime numbers found  7\n"
     ]
    },
    {
     "data": {
      "text/plain": [
       "[5, 7, 11, 13, 17, 19, 23]"
      ]
     },
     "execution_count": 71,
     "metadata": {},
     "output_type": "execute_result"
    }
   ],
   "source": [
    "#2.done จงเขียนโปรแกรมให้ผู้ใช้ใส่เลข ขอบเขตล่าง และ ขอบเขตบน และคำนวณหาเลขจำนวนเฉพาะ (Prime Number) ที่อยู่ระหว่างขอบเขตล่างและขอบเขตบน\n",
    "\n",
    "import numpy as np\n",
    "#lstprime=[2]\n",
    "lstprime=[3]\n",
    "\n",
    "#add from\n",
    "#input=np.arange(3,10000,2)\n",
    "a=int(input('Start='))\n",
    "b=int(input('End='))\n",
    "while b<a: #ok check ตัวหลังต้องมากกว่า หน้า\n",
    "    print('end number less than start')\n",
    "    a=int(input('Start='))\n",
    "    b=int(input('End='))\n",
    "\n",
    "a1=3\n",
    "\n",
    "lstToCheck=np.arange(a1,b+1) # list to check\n",
    "\n",
    "lstToCheck2=[x for x in lstToCheck if x%2>0] # remove even number\n",
    "\n",
    "lstToCheck2\n",
    "#add from\n",
    "\n",
    "c=0\n",
    "for i in lstToCheck2:\n",
    "    c2=len(lstprime)\n",
    "\n",
    "    for j in lstprime:\n",
    "        if (i%j)>0:\n",
    "            c+=1\n",
    "    if c/c2==1:\n",
    "        lstprime.insert(len(lstprime),i)\n",
    "    \n",
    "    c=0\n",
    "\n",
    "lstprime.insert(0,2)\n",
    "    \n",
    "#print(lstprime)\n",
    "#lst3=[x for x in lstprime if x>=a] \n",
    "\n",
    "lst3=[x for x in lstprime if (x>=a and x<=b)] \n",
    "print('Total prime numbers found ',len(lst3))\n",
    "lst3"
   ]
  }
 ],
 "metadata": {
  "kernelspec": {
   "display_name": "Python 3",
   "language": "python",
   "name": "python3"
  },
  "language_info": {
   "codemirror_mode": {
    "name": "ipython",
    "version": 3
   },
   "file_extension": ".py",
   "mimetype": "text/x-python",
   "name": "python",
   "nbconvert_exporter": "python",
   "pygments_lexer": "ipython3",
   "version": "3.8.3"
  }
 },
 "nbformat": 4,
 "nbformat_minor": 4
}
