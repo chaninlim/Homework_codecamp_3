{
 "cells": [
  {
   "cell_type": "code",
   "execution_count": 1,
   "metadata": {},
   "outputs": [
    {
     "name": "stdout",
     "output_type": "stream",
     "text": [
      "Q1 1\n",
      "คี่\n"
     ]
    }
   ],
   "source": [
    "#Q1 #เขียนโปรแกรมรับ input จากผู้ใช้ 1 ตัว แปลงให้เป็น int และตรวจสอบว่าเป็นเลขคู่หรือเลขคี่ \n",
    "#\t- หากเป็นเลขคู่ ให้พิมพ์ว่า เลขคู่\n",
    "#\t- หากเป็นเลขคี่ ให้พิมพ์ว่า เลขคี่\n",
    "#\t- หากเป็นเลขศูนย์ให้พิมพ์ว่า เลขศูนย์\n",
    "\n",
    "Q1=int(input('Q1 '))\n",
    "if Q1 == 0:\n",
    "    print('ศูนย์')\n",
    "elif Q1%2 ==0:\n",
    "    print('คู่')\n",
    "else:\n",
    "    print('คี่')\n",
    "#print(Q1)\n",
    "\n",
    "#work input('type something ')"
   ]
  },
  {
   "cell_type": "code",
   "execution_count": 2,
   "metadata": {},
   "outputs": [
    {
     "name": "stdout",
     "output_type": "stream",
     "text": [
      "x=2.2\n",
      "y=2\n",
      "1.1\n"
     ]
    }
   ],
   "source": [
    "#Q2 #เขียนโปรแกรมรับค่า input 2 ตัว ในรูปแบบ float โดยให้ตัวแรกเป็นตัวตั้ง ตัวที่สองเป็นตัวหาร\n",
    "#\t- หาผลลัพธ์ของการหาร\n",
    "#\t- ใส่เลขทศนิยมได้\n",
    "#\t- ถ้าตัวหารเป็น 0 ให้รับค่าใหม่จนกว่าจะเป็นเลขที่หารได้  \n",
    "\n",
    "#y=2.2\n",
    "x=float(input('x='))\n",
    "y=float(input('y='))\n",
    "while y ==0:\n",
    "    y=float(input('y'))\n",
    "z=x/y\n",
    "print(z)"
   ]
  },
  {
   "cell_type": "code",
   "execution_count": 3,
   "metadata": {},
   "outputs": [
    {
     "name": "stdout",
     "output_type": "stream",
     "text": [
      "x=1\n",
      "Sum = 1\n",
      "Count number =  1\n",
      "x=2\n",
      "Sum = 3\n",
      "Count number =  2\n",
      "x=3\n",
      "Sum = 6\n",
      "Count number =  3\n",
      "x=0\n",
      "Sum = 6\n",
      "Count number =  3\n",
      "result is =  2.0\n"
     ]
    }
   ],
   "source": [
    "#Q3 . เขียนโปรแกรม infinity while loop โดยรับค่า input มาเรื่อยๆ จนกว่าผู้ใช้จะใส่เลข 0 และนำเลขทั้งหมดมาหาค่าเฉลี่ย\n",
    "z=0\n",
    "x=1\n",
    "y=0\n",
    "y_count=0\n",
    "while x!=0:\n",
    "   x=int(input('x='))\n",
    "   if x!=0:\n",
    "           y=y+x\n",
    "           y_count=y_count+1\n",
    "   print('Sum =',y)\n",
    "   print('Count number = ',y_count) \n",
    "\n",
    "z=y/y_count\n",
    "print('result is = ',z)"
   ]
  },
  {
   "cell_type": "code",
   "execution_count": 5,
   "metadata": {},
   "outputs": [
    {
     "name": "stdout",
     "output_type": "stream",
     "text": [
      "x 14\n",
      "หาร 7 ลงตัว\n"
     ]
    }
   ],
   "source": [
    "#Q4 DONE\n",
    "#เขียนโปรมแกรมรับค่า input ที่เป็น integer มาหนึ่งตัว ตรวจสอบว่าเลขนั้นหาร 7 ลงตัวหรือไม่\n",
    "#\t- ถ้าหารลงตัว ให้ปริ้น ‘หาร 7 ลงตัว’\n",
    "# ถ้าหารไม่ลงตัว ให้ปริ้น ‘หาร 7 ไม่ลงตัว’\n",
    "\n",
    "x=int(input('x '))\n",
    "if x%7 >0:\n",
    "    print('หาร 7 ไม่ลงตัว')\n",
    "else:\n",
    "    print('หาร 7 ลงตัว')"
   ]
  },
  {
   "cell_type": "code",
   "execution_count": 87,
   "metadata": {},
   "outputs": [
    {
     "name": "stdout",
     "output_type": "stream",
     "text": [
      "x1=3\n",
      "x2=4\n",
      "x3=5\n",
      "ได้\n",
      "9 16 25\n"
     ]
    }
   ],
   "source": [
    "#Q5 เขียนโปรแกรมรับค่า int มา 3 จำนวน และตรวจสอบว่า 3 เลขนั้นสามารถนำมาสร้าง 3 เหลี่ยมมุมฉากได้หรือไม่\n",
    "#ความยาวของด้านตรงข้ามมุมฉาก c จะเท่ากับผลบวกของกำลังสองของด้านประกอบมุมฉาก a, b เขียนอย่างย่อเป็น a2 + b2 = c2 \n",
    "\n",
    "x1=int(input('x1='))\n",
    "x2=int(input('x2='))\n",
    "x3=int(input('x3='))\n",
    "\n",
    "y1=x1**2\n",
    "y2=x2**2\n",
    "y3=x3**2\n",
    "\n",
    "\n",
    "if (x1**2)+(x2**2)==(x3**2):\n",
    "    print('ได้')\n",
    "elif (x1**2)+(x3**2)==x2**2:\n",
    "    print('ได้')\n",
    "elif (x3**2)+(x2**2)==x1**2:\n",
    "    print('ได้')\n",
    "else:\n",
    "    print('ไม่ได้')\n",
    "   \n",
    "print(y1,y2,y3)    "
   ]
  },
  {
   "cell_type": "code",
   "execution_count": 9,
   "metadata": {},
   "outputs": [
    {
     "name": "stdout",
     "output_type": "stream",
     "text": [
      "x=90\n",
      "y=60\n",
      "z=30\n",
      "90\n",
      "ฉาก\n"
     ]
    }
   ],
   "source": [
    "#Q6 . เขียนโปรแกรมรับค่า int มา 3 จำนวน และตรวจสอบว่าเมื่อนำ 3 เลขนั้นมาสร้าง 3 เหลี่ยม จะได้สามเหลี่ยมแบบใด\n",
    "#\t- สามเหลี่ยมมุมแหลม\n",
    "#\t- สามเหลี่ยมมุมป้าน\n",
    "#\t- สามเหลี่ยมมุมฉาก\n",
    "\n",
    "x=int(input('x='))\n",
    "y=int(input('y='))\n",
    "z=int(input('z='))\n",
    "mymax=0\n",
    "if x > y:\n",
    "    if x>z:\n",
    "        mymax=x\n",
    "    else:\n",
    "        mymax=z\n",
    "else: #y>x\n",
    "    if y>z:\n",
    "        mymax=y\n",
    "    else:\n",
    "        mymax=z\n",
    "\n",
    "print(mymax)\n",
    "\n",
    "if x+y+z != 180: #check if not 180 then not triangle\n",
    "    print('ไม่ใช่สามเหลี่ยม')\n",
    "elif mymax==90:\n",
    "    print('ฉาก')\n",
    "elif mymax>90:\n",
    "    print('ป่าน')\n",
    "else:\n",
    "    print('แหลม')\n"
   ]
  },
  {
   "cell_type": "code",
   "execution_count": 12,
   "metadata": {},
   "outputs": [
    {
     "name": "stdout",
     "output_type": "stream",
     "text": [
      "x1=3000\n",
      "x2=4000\n",
      "x3=5000\n",
      "Total eat=  12000.0\n",
      "Discount=  1800.0\n",
      "Net pay=  10200.0\n"
     ]
    }
   ],
   "source": [
    "#Q7 DONE\n",
    "#เขียนโปรแกรมให้รับค่าอาหาร 3 ครั้งที่ไปทานอาหารนอกบ้านล่าสุด โดยแต่ละครั้งต้องไม่ต่ำกว่า 1,000 และไม่เกิน 5,000 \n",
    "#(ผู้ใช้ต้องใส่อยู่ในช่วงนี้) และนำค่าอาหารทั้ง 3 ครั้งมาบวกกัน หากเกิน 6,000 บาท จะได้รับส่วนลด 15% \n",
    "#หากเกิน 12,000 จะได้รับส่วนลด 25% จงหายอดเงินสุดท้ายที่ต้องจ่าย\n",
    "\n",
    "x1=float(input('x1='))\n",
    "while x1 <1000 or x1 > 5000:\n",
    "    x1=float(input('x1='))\n",
    "\n",
    "x2=float(input('x2='))\n",
    "while x2 <1000 or x2 > 5000:\n",
    "    x2=float(input('x2='))\n",
    "\n",
    "x3=float(input('x3='))\n",
    "while x3 <1000 or x3 > 5000:\n",
    "    x3=float(input('x3='))\n",
    "    \n",
    "total3=x1+x2+x3\n",
    "print('Total eat= ',total3)\n",
    "\n",
    "if total3 >12000:\n",
    "    disc=.25\n",
    "elif total3>6000:\n",
    "    disc=.15\n",
    "else:\n",
    "    disc=0\n",
    "\n",
    "print('Discount= ',(total3*disc))    \n",
    "Netpay=total3-(total3*disc)\n",
    "print('Net pay= ',Netpay)\n",
    "\n"
   ]
  },
  {
   "cell_type": "code",
   "execution_count": 13,
   "metadata": {},
   "outputs": [
    {
     "name": "stdout",
     "output_type": "stream",
     "text": [
      "x1=5000\n",
      "x2=5000\n",
      "x3=5000\n",
      "x4=5000\n",
      "Total to discount=  15000.0\n",
      "Total eat=  20000.0\n",
      "Total discount=  1250.0\n",
      "Net pay 4=  3750.0\n"
     ]
    }
   ],
   "source": [
    "#8 DONE\n",
    "#เขียนโปรแกรมให้รับค่าอาหาร 4 ครั้งที่ไปทานอาหารนอกบ้านล่าสุด โดยแต่ละครั้งต้องไม่ต่ำกว่า 1,000 และไม่เกิน 5,000 (ผู้ใช้ต้องใส่อยู่ในช่วงนี้) \n",
    "#และนำค่าอาหาร 3 ครั้งแรกมาบวกกัน หากเกิน 6,000 บาท จะได้รับส่วนลด 15% หากเกิน 12,000 จะได้รับส่วนลด 25% ของมื้อที่ 4 \n",
    "#จงหายอดเงินสุดท้ายที่ต้องจ่ายของมื้อที่ 4\n",
    "x1=float(input('x1='))\n",
    "while x1 <1000 or x1 > 5000:\n",
    "    x1=float(input('x1='))\n",
    "\n",
    "x2=float(input('x2='))\n",
    "while x2 <1000 or x2 > 5000:\n",
    "    x2=float(input('x2='))\n",
    "\n",
    "x3=float(input('x3='))\n",
    "while x3 <1000 or x3 > 5000:\n",
    "    x3=float(input('x3='))\n",
    "\n",
    "x4=float(input('x4='))\n",
    "while x4 <1000 or x4 > 5000:\n",
    "    x4=float(input('x4='))\n",
    "    \n",
    "total3=x1+x2+x3\n",
    "total4=x1+x2+x3+x4\n",
    "\n",
    "if total3 >12000:\n",
    "    disc=.25\n",
    "elif total3>6000:\n",
    "    disc=.15\n",
    "else:\n",
    "    disc=0\n",
    "    \n",
    "print('Total to discount= ',total3)\n",
    "print('Total eat= ',total4)\n",
    "\n",
    "total_disc=disc*x4\n",
    "print('Total discount= ',total_disc)\n",
    "\n",
    "\n",
    "Netpay=x4-(total_disc)\n",
    "print('Net pay 4= ',Netpay)\n",
    "\n"
   ]
  },
  {
   "cell_type": "code",
   "execution_count": 14,
   "metadata": {},
   "outputs": [
    {
     "name": "stdout",
     "output_type": "stream",
     "text": [
      "x1=3000\n",
      "x2=4000\n",
      "x3=3000\n",
      "x4=5000\n",
      "Total to discount=  10000.0\n",
      "Total eat=  15000.0\n",
      "Total discount=  1500.0\n",
      "Net pay 4=  3500.0\n"
     ]
    }
   ],
   "source": [
    "#9 DONE\n",
    "#เขียนโปรแกรมให้รับค่าอาหาร 4 ครั้งที่ไปทานอาหารนอกบ้านล่าสุด โดยแต่ละครั้งต้องไม่ต่ำกว่า 1,000 และไม่เกิน 5,000 (เขียนให้ผู้ใช้ใส่ใหม่หากไม่อยู่ในช่วงที่กำหนด)\n",
    "#และนำค่าอาหาร 3 ครั้งแรกมาบวกกัน หากเกิน 4,000 บาท จะได้รับส่วนลด 25% หากเกิน 9,000 จะได้รับส่วนลด 30% ของมื้อที่ 4 \n",
    "#จงหายอดเงินสุดท้ายที่ต้องจ่ายของมื้อที่ 4\n",
    "\n",
    "x1=float(input('x1='))\n",
    "while x1 <1000 or x1 > 5000:\n",
    "    x1=float(input('x1='))\n",
    "\n",
    "x2=float(input('x2='))\n",
    "while x2 <1000 or x2 > 5000:\n",
    "    x2=float(input('x2='))\n",
    "x3=float(input('x3='))\n",
    "while x3 <1000 or x3 > 5000:\n",
    "    x3=float(input('x3='))\n",
    "\n",
    "x4=float(input('x4='))\n",
    "while x4 <1000 or x4 > 5000:\n",
    "    x4=float(input('x4='))\n",
    "    \n",
    "total3=x1+x2+x3\n",
    "total4=x1+x2+x3+x4\n",
    "\n",
    "if total3 >9000:\n",
    "    disc=.30\n",
    "elif total3>4000:\n",
    "    disc=.25\n",
    "else:\n",
    "    disc=0\n",
    "    \n",
    "print('Total to discount= ',total3)\n",
    "print('Total eat= ',total4)\n",
    "\n",
    "total_disc=disc*x4\n",
    "print('Total discount= ',total_disc)\n",
    "\n",
    "\n",
    "Netpay=x4-(total_disc)\n",
    "print('Net pay 4= ',Netpay)\n"
   ]
  },
  {
   "cell_type": "code",
   "execution_count": 15,
   "metadata": {},
   "outputs": [
    {
     "name": "stdout",
     "output_type": "stream",
     "text": [
      "x1=3000\n",
      "x2=4000\n",
      "x3=3000\n",
      "x4=6000\n",
      "x4=5000\n",
      "Have Credit Card? : (y/n) y\n",
      "Have Credit Card\n",
      "Total to disc=  10000.0\n",
      "Total eat=  15000.0\n",
      "Total disc=  1750.0\n",
      "Net4=  3250.0\n"
     ]
    }
   ],
   "source": [
    "#10 DONE\n",
    "#เขียนโปรแกรมให้รับค่าอาหาร 4 ครั้งที่ไปทานอาหารนอกบ้านล่าสุด โดยแต่ละครั้งต้องไม่ต่ำกว่า 1,000 และไม่เกิน 5,000 (เขียนให้ผู้ใช้ใส่ใหม่หากไม่อยู่ในช่วงที่กำหนด) \n",
    "#และถามผู้ใช้มีบัตรเครดิตหรือไม่(True/False) นำค่าอาหาร 3 ครั้งแรกมาบวกกัน หากเกิน 4,000 บาท จะได้รับส่วนลด 25% หากเกิน 9,000 \n",
    "#จะได้รับส่วนลด 30% ของมื้อที่ 4 หากมีบัตรเครดิต ลดเพิ่มอีก 5%    จงหายอดเงินสุดท้ายที่ต้องจ่ายของมื้อที่ 4\n",
    "\n",
    "x1=float(input('x1='))\n",
    "while x1 <1000 or x1 > 5000:\n",
    "    x1=float(input('x1='))\n",
    "    \n",
    "x2=float(input('x2='))\n",
    "while x2 <1000 or x2 > 5000:\n",
    "    x2=float(input('x2='))\n",
    "    \n",
    "x3=float(input('x3='))\n",
    "while x3 <1000 or x3 > 5000:\n",
    "    x3=float(input('x3='))\n",
    "    \n",
    "x4=float(input('x4='))\n",
    "while x4 <1000 or x4 > 5000:\n",
    "    x4=float(input('x4='))\n",
    "    \n",
    "x5=input('Have Credit Card? : (y/n) ')\n",
    "x5\n",
    "CheckYesNo=''\n",
    "\n",
    "if x5 == 'y':\n",
    "        CheckYesNo='OK'\n",
    "        print('Have Credit Card')\n",
    "elif x5 == 'n':\n",
    "        CheckYesNo='OK'\n",
    "        print('Not have Credit Card')\n",
    "else:\n",
    "        CheckYesNo='NO'\n",
    "        print('Please enter y or n')\n",
    "    \n",
    "while CheckYesNo != 'OK' :\n",
    "    x5=input('Have Credit Card? : (y/n) ')\n",
    "    if x5 == 'y':\n",
    "        CheckYesNo='OK'\n",
    "        print('Have Credit Card')\n",
    "    elif x5 == 'n':\n",
    "        CheckYesNo='OK'\n",
    "        print('Not have Credit Card')\n",
    "    else:\n",
    "        CheckYesNo='NO'\n",
    "        print('Please enter y or n')\n",
    "    \n",
    "total3=x1+x2+x3\n",
    "total4=x1+x2+x3+x4\n",
    "\n",
    "if total3 >9000:\n",
    "    disc=.30\n",
    "elif total3>4000:\n",
    "    disc=.25\n",
    "else:\n",
    "    disc=0\n",
    "\n",
    "if x5=='y':\n",
    "    disc=disc+.05\n",
    "    \n",
    "print('Total to disc= ',total3)\n",
    "print('Total eat= ',total4)\n",
    "\n",
    "total_disc=disc*x4\n",
    "print('Total disc= ',total_disc)\n",
    "\n",
    "Netpay=x4-(total_disc)\n",
    "print('Net4= ',Netpay)"
   ]
  },
  {
   "cell_type": "code",
   "execution_count": 64,
   "metadata": {},
   "outputs": [
    {
     "name": "stdout",
     "output_type": "stream",
     "text": [
      "put 7 digits or more , mix with Capital & normal letter =treeT\n",
      "len=  5\n",
      "Len not OK\n",
      "Mix OK\n",
      "put 7 digits or more , mix with Capital & normal letter =tewwrtR\n",
      "len=  7\n",
      "Len OK\n",
      "Mix OK\n",
      "Original = tewwrtR\n",
      "Converted result = TEWWRTr\n"
     ]
    }
   ],
   "source": [
    "#11 DONE\n",
    "#จงเขียนโปรแกรมรับ input ที่เป็นประโยคแบบ string ที่มีความยาวของคำไม่ต่ำกว่า 7 ตัวอักษรภาษาอังกฤษ(สมมติว่าเป็นคำเดียว) \n",
    "#และมีพิมพ์ใหญ่พิมพ์เล็กปนกัน จากนั้นให้ตรวจสอบแต่ละอักษร ให้แปลงพิมพ์ใหญ่เป็นพิมพ์เล็ก และพิมพ์เล็กเป็นพิมพ์ใหญ่พร้อมกับปริ้นออกมา\n",
    "\n",
    "chk=0\n",
    "while chk<2:\n",
    "    b=input('put 7 digits or more , mix with Capital & normal letter =')\n",
    "    print('len= ',len(b))\n",
    "        \n",
    "    if len(b)<7:\n",
    "            chk= 0 \n",
    "            print('Len not OK')\n",
    "    else:\n",
    "            chk= chk + 1\n",
    "            print('Len OK')\n",
    "    \n",
    "    if b.isupper()==False:\n",
    "        if b.islower()==False:\n",
    "            chk=chk+1\n",
    "            print('Mix OK')\n",
    "        else:\n",
    "            chk=0\n",
    "            print('Mix Not OK')\n",
    "    else:\n",
    "        check=0\n",
    "        print('Mix Not OK')\n",
    "        \n",
    "\n",
    "# transform result\n",
    "c=''\n",
    "\n",
    "for i in b:\n",
    "    if i.islower():\n",
    "        #print(i.upper())\n",
    "        c=c+i.upper()\n",
    "    else:\n",
    "        #print(i.lower())\n",
    "        c=c+i.lower()\n",
    "\n",
    "print('Original =',b)\n",
    "print('Converted result =',c)"
   ]
  },
  {
   "cell_type": "code",
   "execution_count": 37,
   "metadata": {},
   "outputs": [
    {
     "name": "stdout",
     "output_type": "stream",
     "text": [
      "x1=111\n",
      "x2=1\n",
      "x3=1111\n",
      "x4=11\n",
      "List by max lenght  ['1111', '111', '11', '1']\n",
      "List by min lenght  1 11 111 1111\n"
     ]
    }
   ],
   "source": [
    "#12 DONE\n",
    "#เขียนโปรแกรมรับ input 4 ตัวที่เป็น string จากนั้นตรวจสอบว่า input ใดมีความยาวมากที่สุด รองลงมา \n",
    "#และน้อยที่สุด จากนั้น ปริ้นแต่ละ input ออกมาตามลำดับน้อยสุดไปมากสุด\n",
    "x1=input('x1=')\n",
    "x2=input('x2=')\n",
    "x3=input('x3=')\n",
    "x4=input('x4=')\n",
    "#print(len(x1))\n",
    "#print(len(x2))\n",
    "#print(len(x3))\n",
    "#print(len(x4))\n",
    "l1=len(x1)\n",
    "l2=len(x2)\n",
    "l3=len(x3)\n",
    "l4=len(x4)\n",
    "lst=[]\n",
    "\n",
    "\n",
    "if l1 >= l2:\n",
    "    lst=[x1,x2]\n",
    "else:\n",
    "    lst=[x2,x1]\n",
    "\n",
    "\n",
    "chk21=lst[0]\n",
    "chk22=lst[1]\n",
    "l21=len(chk21)\n",
    "l22=len(chk22)\n",
    "    \n",
    "    \n",
    "if l3 >=l21:\n",
    "    lst2=[x3,chk21,chk22]\n",
    "elif l3 >= l22:\n",
    "    lst2=[chk21,x3,chk22]\n",
    "else:\n",
    "    lst2=[chk21,chk22,x3]\n",
    "\n",
    "    \n",
    "chk31=lst2[0]\n",
    "chk32=lst2[1]\n",
    "chk33=lst2[2]\n",
    "\n",
    "if l4>=len(chk31):\n",
    "    lst3=[x4,chk31,chk32,chk33]\n",
    "elif l4>=len(chk32):\n",
    "    lst3=[chk31,x4,chk32,chk33]\n",
    "elif l4>=len(chk33):\n",
    "    lst3=[chk31,chk32,x4,chk33]\n",
    "else:\n",
    "    lst3=[chk31,chk32,chk33,x4]\n",
    "       \n",
    "#print (lst)\n",
    "#print (lst2)\n",
    "print ('List by max lenght ',lst3)\n",
    "\n",
    "print ('List by min lenght ',lst3[3],lst3[2],lst3[1],lst3[0])"
   ]
  },
  {
   "cell_type": "code",
   "execution_count": 125,
   "metadata": {},
   "outputs": [
    {
     "name": "stdout",
     "output_type": "stream",
     "text": [
      "hour=1\n",
      "min=2\n",
      "Net pay = 154 thb\n"
     ]
    }
   ],
   "source": [
    "#13 DONE\n",
    "#เขียนโปรแกรมรับ input สองตัวเป็นจำนวนเต็มระหว่าง 0-60 โดยตัวแรกเป็นชั่วโมงและตัวที่สองเป็นนาที \n",
    "#คำนวณค่าที่จอดรถถ้าชั่วโมงละ 150 บาท เศษนาทีคิดเป็นนาทีละ 2 บาท\n",
    "\n",
    "h1=int(input('hour='))\n",
    "m1=int(input('min='))\n",
    "\n",
    "\n",
    "while h1<0:\n",
    "    h1=int(input('hour='))\n",
    "    \n",
    "while m1 not in range (61):\n",
    "    m1=int(input('min='))\n",
    "    \n",
    "if m1==60:\n",
    "    h1=h1+1\n",
    "    m1=0\n",
    "    \n",
    "netpay=(h1*150)+(m1*2)\n",
    "print('Net pay = {} thb'.format(netpay))"
   ]
  },
  {
   "cell_type": "code",
   "execution_count": 129,
   "metadata": {},
   "outputs": [
    {
     "name": "stdout",
     "output_type": "stream",
     "text": [
      "hour=0\n",
      "min=61\n",
      "min=61\n",
      "min=60\n",
      "hour= 0\n",
      "minutes= 0\n",
      "Net pay = 0 thb\n"
     ]
    }
   ],
   "source": [
    "#14 DONE\n",
    "#เขียนโปรแกรมรับ input สองตัวเป็นจำนวนเต็มระหว่าง 0-60 โดยตัวแรกเป็นชั่วโมงและตัวที่สองเป็นนาที \n",
    "#คำนวณค่าที่จอดรถถ้าชั่วโมงละ 300 บาท เศษนาทีเกิน 15 นาทีคิดเป็นหนึ่งชั่วโมง หากไม่เกินไม่คิดเงิน และชั่วโมงแรกจอดฟรี\n",
    "\n",
    "\n",
    "h1=int(input('hour='))\n",
    "while h1<0:\n",
    "    h1=int(input('hour='))\n",
    "\n",
    "m1=int(input('min='))\n",
    "while m1 not in range (61):\n",
    "    m1=int(input('min='))\n",
    "    \n",
    "if m1==60:\n",
    "    h1=h1+1\n",
    "    m1=0\n",
    "    \n",
    "if m1<=15:\n",
    "    m1=0\n",
    "else:\n",
    "    h1=h1+1\n",
    "    \n",
    "if h1==1:\n",
    "    h1=0\n",
    "    \n",
    "print('hour=',h1)\n",
    "print('minutes=',m1)\n",
    "\n",
    "hour_charge =0\n",
    "if h1 ==0:\n",
    "    hour_charge =0\n",
    "else:\n",
    "    hour_charge =h1-1\n",
    "\n",
    "netpay=(hour_charge*300)\n",
    "print('Net pay = {} thb'.format(netpay))\n"
   ]
  },
  {
   "cell_type": "code",
   "execution_count": 26,
   "metadata": {},
   "outputs": [
    {
     "name": "stdout",
     "output_type": "stream",
     "text": [
      "head=3\n",
      "leg=4\n",
      "leg=1\n",
      "leg=6\n",
      "bird=  3\n",
      "cow=  0\n",
      "tax=  450\n"
     ]
    }
   ],
   "source": [
    "#15 DONE\n",
    "#โรงละครสัตว์มีนก กับ วัว และต้องจ่ายภาษีสัตว์ 2 ขา 150 บาทต่อตัว   จ่ายภาษีสัตว์ 4 ขา 220 บาทต่อตัว \n",
    "#เขียนโปรแกรมรับค่า input สองตัว ตัวแรกเป็นผลรวมจำนวนหัวของสัตว์ ตัวสองเป็นผลรวมจำนวนขาของสัตว์ จงหาว่าโรงละครสัตว์ต้องจ่ายภาษีเท่าใด\n",
    "# to input is bird or cow\n",
    "h1=int(input('head='))\n",
    "\n",
    "while h1<1:\n",
    "    h1=int(input('head='))\n",
    "\n",
    "\n",
    "l1=int(input('leg='))\n",
    "\n",
    "while (l1%2>0) or (l1 < (h1*2)) or (l1 > (h1*4)):\n",
    "    l1=int(input('leg='))\n",
    "    \n",
    "if (l1/2)==h1: # if leg is match with bird leg then all is bird\n",
    "    n1=h1\n",
    "    c1=0\n",
    "elif (l1/2)> h1: #เหลือเศษ นับเป็นวัว   ได้ จ.น วัว แล้ว ไปหักจาก h ได้ เป็น จน นก\n",
    "    c1=(l1-(h1*2))/2\n",
    "    n1=h1-c1\n",
    "    \n",
    "print('bird= ',n1)    \n",
    "print('cow= ',c1)    \n",
    "tax=(n1*150)+(c1*220)\n",
    "print('tax= ',tax)"
   ]
  }
 ],
 "metadata": {
  "kernelspec": {
   "display_name": "Python 3",
   "language": "python",
   "name": "python3"
  },
  "language_info": {
   "codemirror_mode": {
    "name": "ipython",
    "version": 3
   },
   "file_extension": ".py",
   "mimetype": "text/x-python",
   "name": "python",
   "nbconvert_exporter": "python",
   "pygments_lexer": "ipython3",
   "version": "3.8.3"
  }
 },
 "nbformat": 4,
 "nbformat_minor": 4
}
